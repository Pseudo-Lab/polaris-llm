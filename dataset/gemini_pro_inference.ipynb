{
  "cells": [
    {
      "cell_type": "markdown",
      "metadata": {
        "id": "i-CFxljUblUX"
      },
      "source": [
        "# make dataset\n",
        "- fine-tuning을 위한 데이터셋을 만듭니다\n",
        "- gemini pro flash 를 사용하였습니다.\n",
        "- 잘 변형되어있는지 직접 확인하고자 합니다.\n",
        "- 시작 시점 : 24.05.15 ~ 24.06.04"
      ]
    },
    {
      "cell_type": "code",
      "execution_count": null,
      "metadata": {
        "colab": {
          "background_save": true,
          "base_uri": "https://localhost:8080/"
        },
        "id": "77SWpz5Kb8yb",
        "outputId": "ec1113e4-9474-4159-809a-fa2c932e0075"
      },
      "outputs": [
        {
          "name": "stdout",
          "output_type": "stream",
          "text": [
            "Requirement already satisfied: datasets==2.17.0 in /usr/local/lib/python3.10/dist-packages (2.17.0)\n",
            "Requirement already satisfied: filelock in /usr/local/lib/python3.10/dist-packages (from datasets==2.17.0) (3.14.0)\n",
            "Requirement already satisfied: numpy>=1.17 in /usr/local/lib/python3.10/dist-packages (from datasets==2.17.0) (1.25.2)\n",
            "Requirement already satisfied: pyarrow>=12.0.0 in /usr/local/lib/python3.10/dist-packages (from datasets==2.17.0) (14.0.2)\n",
            "Requirement already satisfied: pyarrow-hotfix in /usr/local/lib/python3.10/dist-packages (from datasets==2.17.0) (0.6)\n",
            "Requirement already satisfied: dill<0.3.9,>=0.3.0 in /usr/local/lib/python3.10/dist-packages (from datasets==2.17.0) (0.3.8)\n",
            "Requirement already satisfied: pandas in /usr/local/lib/python3.10/dist-packages (from datasets==2.17.0) (2.0.3)\n",
            "Requirement already satisfied: requests>=2.19.0 in /usr/local/lib/python3.10/dist-packages (from datasets==2.17.0) (2.31.0)\n",
            "Requirement already satisfied: tqdm>=4.62.1 in /usr/local/lib/python3.10/dist-packages (from datasets==2.17.0) (4.66.4)\n",
            "Requirement already satisfied: xxhash in /usr/local/lib/python3.10/dist-packages (from datasets==2.17.0) (3.4.1)\n",
            "Requirement already satisfied: multiprocess in /usr/local/lib/python3.10/dist-packages (from datasets==2.17.0) (0.70.16)\n",
            "Requirement already satisfied: fsspec[http]<=2023.10.0,>=2023.1.0 in /usr/local/lib/python3.10/dist-packages (from datasets==2.17.0) (2023.6.0)\n",
            "Requirement already satisfied: aiohttp in /usr/local/lib/python3.10/dist-packages (from datasets==2.17.0) (3.9.5)\n",
            "Requirement already satisfied: huggingface-hub>=0.19.4 in /usr/local/lib/python3.10/dist-packages (from datasets==2.17.0) (0.23.2)\n",
            "Requirement already satisfied: packaging in /usr/local/lib/python3.10/dist-packages (from datasets==2.17.0) (24.0)\n",
            "Requirement already satisfied: pyyaml>=5.1 in /usr/local/lib/python3.10/dist-packages (from datasets==2.17.0) (6.0.1)\n",
            "Requirement already satisfied: aiosignal>=1.1.2 in /usr/local/lib/python3.10/dist-packages (from aiohttp->datasets==2.17.0) (1.3.1)\n",
            "Requirement already satisfied: attrs>=17.3.0 in /usr/local/lib/python3.10/dist-packages (from aiohttp->datasets==2.17.0) (23.2.0)\n",
            "Requirement already satisfied: frozenlist>=1.1.1 in /usr/local/lib/python3.10/dist-packages (from aiohttp->datasets==2.17.0) (1.4.1)\n",
            "Requirement already satisfied: multidict<7.0,>=4.5 in /usr/local/lib/python3.10/dist-packages (from aiohttp->datasets==2.17.0) (6.0.5)\n",
            "Requirement already satisfied: yarl<2.0,>=1.0 in /usr/local/lib/python3.10/dist-packages (from aiohttp->datasets==2.17.0) (1.9.4)\n",
            "Requirement already satisfied: async-timeout<5.0,>=4.0 in /usr/local/lib/python3.10/dist-packages (from aiohttp->datasets==2.17.0) (4.0.3)\n",
            "Requirement already satisfied: typing-extensions>=3.7.4.3 in /usr/local/lib/python3.10/dist-packages (from huggingface-hub>=0.19.4->datasets==2.17.0) (4.12.1)\n",
            "Requirement already satisfied: charset-normalizer<4,>=2 in /usr/local/lib/python3.10/dist-packages (from requests>=2.19.0->datasets==2.17.0) (3.3.2)\n",
            "Requirement already satisfied: idna<4,>=2.5 in /usr/local/lib/python3.10/dist-packages (from requests>=2.19.0->datasets==2.17.0) (3.7)\n",
            "Requirement already satisfied: urllib3<3,>=1.21.1 in /usr/local/lib/python3.10/dist-packages (from requests>=2.19.0->datasets==2.17.0) (2.0.7)\n",
            "Requirement already satisfied: certifi>=2017.4.17 in /usr/local/lib/python3.10/dist-packages (from requests>=2.19.0->datasets==2.17.0) (2024.6.2)\n",
            "Requirement already satisfied: python-dateutil>=2.8.2 in /usr/local/lib/python3.10/dist-packages (from pandas->datasets==2.17.0) (2.8.2)\n",
            "Requirement already satisfied: pytz>=2020.1 in /usr/local/lib/python3.10/dist-packages (from pandas->datasets==2.17.0) (2023.4)\n",
            "Requirement already satisfied: tzdata>=2022.1 in /usr/local/lib/python3.10/dist-packages (from pandas->datasets==2.17.0) (2024.1)\n",
            "Requirement already satisfied: six>=1.5 in /usr/local/lib/python3.10/dist-packages (from python-dateutil>=2.8.2->pandas->datasets==2.17.0) (1.16.0)\n",
            "\u001b[31mERROR: Operation cancelled by user\u001b[0m\u001b[31m\n",
            "\u001b[0m"
          ]
        }
      ],
      "source": [
        "# dattsets download\n",
        "!pip install -U datasets==2.17.0"
      ]
    },
    {
      "cell_type": "code",
      "execution_count": null,
      "metadata": {
        "colab": {
          "base_uri": "https://localhost:8080/"
        },
        "id": "G32pUOul_ggX",
        "outputId": "e2c6edd9-7a88-4fef-e2df-705cb91e1716"
      },
      "outputs": [
        {
          "name": "stdout",
          "output_type": "stream",
          "text": [
            "Requirement already satisfied: huggingface_hub in /usr/local/lib/python3.10/dist-packages (0.23.2)\n",
            "Requirement already satisfied: filelock in /usr/local/lib/python3.10/dist-packages (from huggingface_hub) (3.14.0)\n",
            "Requirement already satisfied: fsspec>=2023.5.0 in /usr/local/lib/python3.10/dist-packages (from huggingface_hub) (2023.6.0)\n",
            "Requirement already satisfied: packaging>=20.9 in /usr/local/lib/python3.10/dist-packages (from huggingface_hub) (24.0)\n",
            "Requirement already satisfied: pyyaml>=5.1 in /usr/local/lib/python3.10/dist-packages (from huggingface_hub) (6.0.1)\n",
            "Requirement already satisfied: requests in /usr/local/lib/python3.10/dist-packages (from huggingface_hub) (2.31.0)\n",
            "Requirement already satisfied: tqdm>=4.42.1 in /usr/local/lib/python3.10/dist-packages (from huggingface_hub) (4.66.4)\n",
            "Requirement already satisfied: typing-extensions>=3.7.4.3 in /usr/local/lib/python3.10/dist-packages (from huggingface_hub) (4.12.1)\n",
            "Requirement already satisfied: charset-normalizer<4,>=2 in /usr/local/lib/python3.10/dist-packages (from requests->huggingface_hub) (3.3.2)\n",
            "Requirement already satisfied: idna<4,>=2.5 in /usr/local/lib/python3.10/dist-packages (from requests->huggingface_hub) (3.7)\n",
            "Requirement already satisfied: urllib3<3,>=1.21.1 in /usr/local/lib/python3.10/dist-packages (from requests->huggingface_hub) (2.0.7)\n",
            "Requirement already satisfied: certifi>=2017.4.17 in /usr/local/lib/python3.10/dist-packages (from requests->huggingface_hub) (2024.6.2)\n",
            "\n",
            "    _|    _|  _|    _|    _|_|_|    _|_|_|  _|_|_|  _|      _|    _|_|_|      _|_|_|_|    _|_|      _|_|_|  _|_|_|_|\n",
            "    _|    _|  _|    _|  _|        _|          _|    _|_|    _|  _|            _|        _|    _|  _|        _|\n",
            "    _|_|_|_|  _|    _|  _|  _|_|  _|  _|_|    _|    _|  _|  _|  _|  _|_|      _|_|_|    _|_|_|_|  _|        _|_|_|\n",
            "    _|    _|  _|    _|  _|    _|  _|    _|    _|    _|    _|_|  _|    _|      _|        _|    _|  _|        _|\n",
            "    _|    _|    _|_|      _|_|_|    _|_|_|  _|_|_|  _|      _|    _|_|_|      _|        _|    _|    _|_|_|  _|_|_|_|\n",
            "\n",
            "    To login, `huggingface_hub` requires a token generated from https://huggingface.co/settings/tokens .\n",
            "Enter your token (input will not be visible): Traceback (most recent call last):\n",
            "  File \"/usr/lib/python3.10/getpass.py\", line 77, in unix_getpass\n",
            "    passwd = _raw_input(prompt, stream, input=input)\n",
            "  File \"/usr/lib/python3.10/getpass.py\", line 146, in _raw_input\n",
            "    line = input.readline()\n",
            "KeyboardInterrupt\n",
            "\n",
            "During handling of the above exception, another exception occurred:\n",
            "\n",
            "Traceback (most recent call last):\n",
            "  File \"/usr/local/bin/huggingface-cli\", line 8, in <module>\n",
            "    sys.exit(main())\n",
            "  File \"/usr/local/lib/python3.10/dist-packages/huggingface_hub/commands/huggingface_cli.py\", line 51, in main\n",
            "    service.run()\n",
            "  File \"/usr/local/lib/python3.10/dist-packages/huggingface_hub/commands/user.py\", line 98, in run\n",
            "    login(token=self.args.token, add_to_git_credential=self.args.add_to_git_credential)\n",
            "  File \"/usr/local/lib/python3.10/dist-packages/huggingface_hub/_login.py\", line 115, in login\n",
            "    interpreter_login(new_session=new_session, write_permission=write_permission)\n",
            "  File \"/usr/local/lib/python3.10/dist-packages/huggingface_hub/_login.py\", line 191, in interpreter_login\n",
            "    token = getpass(\"Enter your token (input will not be visible): \")\n",
            "  File \"/usr/lib/python3.10/getpass.py\", line 79, in unix_getpass\n",
            "    termios.tcsetattr(fd, tcsetattr_flags, old)\n",
            "KeyboardInterrupt\n",
            "^C\n"
          ]
        }
      ],
      "source": [
        "!pip install huggingface_hub\n",
        "!huggingface-cli login"
      ]
    },
    {
      "cell_type": "code",
      "execution_count": null,
      "metadata": {
        "id": "9eFWkfrw9jCM"
      },
      "outputs": [],
      "source": [
        "import pandas as pd"
      ]
    },
    {
      "cell_type": "code",
      "execution_count": null,
      "metadata": {
        "colab": {
          "base_uri": "https://localhost:8080/",
          "height": 367
        },
        "id": "FFlMe_2x9p87",
        "outputId": "82afa876-f7aa-4e65-c6c0-5eeb2a37a99c"
      },
      "outputs": [
        {
          "ename": "FileNotFoundError",
          "evalue": "[Errno 2] No such file or directory: '/content/persona3.csv'",
          "output_type": "error",
          "traceback": [
            "\u001b[0;31m---------------------------------------------------------------------------\u001b[0m",
            "\u001b[0;31mFileNotFoundError\u001b[0m                         Traceback (most recent call last)",
            "\u001b[0;32m<ipython-input-38-9c9ef86ed629>\u001b[0m in \u001b[0;36m<cell line: 1>\u001b[0;34m()\u001b[0m\n\u001b[0;32m----> 1\u001b[0;31m \u001b[0mpersona1\u001b[0m \u001b[0;34m=\u001b[0m \u001b[0mpd\u001b[0m\u001b[0;34m.\u001b[0m\u001b[0mread_csv\u001b[0m\u001b[0;34m(\u001b[0m\u001b[0;34m'/content/persona3.csv'\u001b[0m\u001b[0;34m)\u001b[0m\u001b[0;34m\u001b[0m\u001b[0;34m\u001b[0m\u001b[0m\n\u001b[0m\u001b[1;32m      2\u001b[0m \u001b[0;34m\u001b[0m\u001b[0m\n\u001b[1;32m      3\u001b[0m \u001b[0mpersona1\u001b[0m\u001b[0;34m[\u001b[0m\u001b[0;34m'input'\u001b[0m\u001b[0;34m]\u001b[0m \u001b[0;34m=\u001b[0m \u001b[0;34m''\u001b[0m\u001b[0;34m\u001b[0m\u001b[0;34m\u001b[0m\u001b[0m\n\u001b[1;32m      4\u001b[0m \u001b[0;34m\u001b[0m\u001b[0m\n\u001b[1;32m      5\u001b[0m \u001b[0mpersona1\u001b[0m \u001b[0;34m=\u001b[0m \u001b[0mpersona1\u001b[0m\u001b[0;34m[\u001b[0m\u001b[0;34m[\u001b[0m\u001b[0;34m'질문'\u001b[0m\u001b[0;34m,\u001b[0m\u001b[0;34m'input'\u001b[0m\u001b[0;34m,\u001b[0m\u001b[0;34m'답변'\u001b[0m\u001b[0;34m]\u001b[0m\u001b[0;34m]\u001b[0m\u001b[0;34m\u001b[0m\u001b[0;34m\u001b[0m\u001b[0m\n",
            "\u001b[0;32m/usr/local/lib/python3.10/dist-packages/pandas/io/parsers/readers.py\u001b[0m in \u001b[0;36mread_csv\u001b[0;34m(filepath_or_buffer, sep, delimiter, header, names, index_col, usecols, dtype, engine, converters, true_values, false_values, skipinitialspace, skiprows, skipfooter, nrows, na_values, keep_default_na, na_filter, verbose, skip_blank_lines, parse_dates, infer_datetime_format, keep_date_col, date_parser, date_format, dayfirst, cache_dates, iterator, chunksize, compression, thousands, decimal, lineterminator, quotechar, quoting, doublequote, escapechar, comment, encoding, encoding_errors, dialect, on_bad_lines, delim_whitespace, low_memory, memory_map, float_precision, storage_options, dtype_backend)\u001b[0m\n\u001b[1;32m    910\u001b[0m     \u001b[0mkwds\u001b[0m\u001b[0;34m.\u001b[0m\u001b[0mupdate\u001b[0m\u001b[0;34m(\u001b[0m\u001b[0mkwds_defaults\u001b[0m\u001b[0;34m)\u001b[0m\u001b[0;34m\u001b[0m\u001b[0;34m\u001b[0m\u001b[0m\n\u001b[1;32m    911\u001b[0m \u001b[0;34m\u001b[0m\u001b[0m\n\u001b[0;32m--> 912\u001b[0;31m     \u001b[0;32mreturn\u001b[0m \u001b[0m_read\u001b[0m\u001b[0;34m(\u001b[0m\u001b[0mfilepath_or_buffer\u001b[0m\u001b[0;34m,\u001b[0m \u001b[0mkwds\u001b[0m\u001b[0;34m)\u001b[0m\u001b[0;34m\u001b[0m\u001b[0;34m\u001b[0m\u001b[0m\n\u001b[0m\u001b[1;32m    913\u001b[0m \u001b[0;34m\u001b[0m\u001b[0m\n\u001b[1;32m    914\u001b[0m \u001b[0;34m\u001b[0m\u001b[0m\n",
            "\u001b[0;32m/usr/local/lib/python3.10/dist-packages/pandas/io/parsers/readers.py\u001b[0m in \u001b[0;36m_read\u001b[0;34m(filepath_or_buffer, kwds)\u001b[0m\n\u001b[1;32m    575\u001b[0m \u001b[0;34m\u001b[0m\u001b[0m\n\u001b[1;32m    576\u001b[0m     \u001b[0;31m# Create the parser.\u001b[0m\u001b[0;34m\u001b[0m\u001b[0;34m\u001b[0m\u001b[0m\n\u001b[0;32m--> 577\u001b[0;31m     \u001b[0mparser\u001b[0m \u001b[0;34m=\u001b[0m \u001b[0mTextFileReader\u001b[0m\u001b[0;34m(\u001b[0m\u001b[0mfilepath_or_buffer\u001b[0m\u001b[0;34m,\u001b[0m \u001b[0;34m**\u001b[0m\u001b[0mkwds\u001b[0m\u001b[0;34m)\u001b[0m\u001b[0;34m\u001b[0m\u001b[0;34m\u001b[0m\u001b[0m\n\u001b[0m\u001b[1;32m    578\u001b[0m \u001b[0;34m\u001b[0m\u001b[0m\n\u001b[1;32m    579\u001b[0m     \u001b[0;32mif\u001b[0m \u001b[0mchunksize\u001b[0m \u001b[0;32mor\u001b[0m \u001b[0miterator\u001b[0m\u001b[0;34m:\u001b[0m\u001b[0;34m\u001b[0m\u001b[0;34m\u001b[0m\u001b[0m\n",
            "\u001b[0;32m/usr/local/lib/python3.10/dist-packages/pandas/io/parsers/readers.py\u001b[0m in \u001b[0;36m__init__\u001b[0;34m(self, f, engine, **kwds)\u001b[0m\n\u001b[1;32m   1405\u001b[0m \u001b[0;34m\u001b[0m\u001b[0m\n\u001b[1;32m   1406\u001b[0m         \u001b[0mself\u001b[0m\u001b[0;34m.\u001b[0m\u001b[0mhandles\u001b[0m\u001b[0;34m:\u001b[0m \u001b[0mIOHandles\u001b[0m \u001b[0;34m|\u001b[0m \u001b[0;32mNone\u001b[0m \u001b[0;34m=\u001b[0m \u001b[0;32mNone\u001b[0m\u001b[0;34m\u001b[0m\u001b[0;34m\u001b[0m\u001b[0m\n\u001b[0;32m-> 1407\u001b[0;31m         \u001b[0mself\u001b[0m\u001b[0;34m.\u001b[0m\u001b[0m_engine\u001b[0m \u001b[0;34m=\u001b[0m \u001b[0mself\u001b[0m\u001b[0;34m.\u001b[0m\u001b[0m_make_engine\u001b[0m\u001b[0;34m(\u001b[0m\u001b[0mf\u001b[0m\u001b[0;34m,\u001b[0m \u001b[0mself\u001b[0m\u001b[0;34m.\u001b[0m\u001b[0mengine\u001b[0m\u001b[0;34m)\u001b[0m\u001b[0;34m\u001b[0m\u001b[0;34m\u001b[0m\u001b[0m\n\u001b[0m\u001b[1;32m   1408\u001b[0m \u001b[0;34m\u001b[0m\u001b[0m\n\u001b[1;32m   1409\u001b[0m     \u001b[0;32mdef\u001b[0m \u001b[0mclose\u001b[0m\u001b[0;34m(\u001b[0m\u001b[0mself\u001b[0m\u001b[0;34m)\u001b[0m \u001b[0;34m->\u001b[0m \u001b[0;32mNone\u001b[0m\u001b[0;34m:\u001b[0m\u001b[0;34m\u001b[0m\u001b[0;34m\u001b[0m\u001b[0m\n",
            "\u001b[0;32m/usr/local/lib/python3.10/dist-packages/pandas/io/parsers/readers.py\u001b[0m in \u001b[0;36m_make_engine\u001b[0;34m(self, f, engine)\u001b[0m\n\u001b[1;32m   1659\u001b[0m                 \u001b[0;32mif\u001b[0m \u001b[0;34m\"b\"\u001b[0m \u001b[0;32mnot\u001b[0m \u001b[0;32min\u001b[0m \u001b[0mmode\u001b[0m\u001b[0;34m:\u001b[0m\u001b[0;34m\u001b[0m\u001b[0;34m\u001b[0m\u001b[0m\n\u001b[1;32m   1660\u001b[0m                     \u001b[0mmode\u001b[0m \u001b[0;34m+=\u001b[0m \u001b[0;34m\"b\"\u001b[0m\u001b[0;34m\u001b[0m\u001b[0;34m\u001b[0m\u001b[0m\n\u001b[0;32m-> 1661\u001b[0;31m             self.handles = get_handle(\n\u001b[0m\u001b[1;32m   1662\u001b[0m                 \u001b[0mf\u001b[0m\u001b[0;34m,\u001b[0m\u001b[0;34m\u001b[0m\u001b[0;34m\u001b[0m\u001b[0m\n\u001b[1;32m   1663\u001b[0m                 \u001b[0mmode\u001b[0m\u001b[0;34m,\u001b[0m\u001b[0;34m\u001b[0m\u001b[0;34m\u001b[0m\u001b[0m\n",
            "\u001b[0;32m/usr/local/lib/python3.10/dist-packages/pandas/io/common.py\u001b[0m in \u001b[0;36mget_handle\u001b[0;34m(path_or_buf, mode, encoding, compression, memory_map, is_text, errors, storage_options)\u001b[0m\n\u001b[1;32m    857\u001b[0m         \u001b[0;32mif\u001b[0m \u001b[0mioargs\u001b[0m\u001b[0;34m.\u001b[0m\u001b[0mencoding\u001b[0m \u001b[0;32mand\u001b[0m \u001b[0;34m\"b\"\u001b[0m \u001b[0;32mnot\u001b[0m \u001b[0;32min\u001b[0m \u001b[0mioargs\u001b[0m\u001b[0;34m.\u001b[0m\u001b[0mmode\u001b[0m\u001b[0;34m:\u001b[0m\u001b[0;34m\u001b[0m\u001b[0;34m\u001b[0m\u001b[0m\n\u001b[1;32m    858\u001b[0m             \u001b[0;31m# Encoding\u001b[0m\u001b[0;34m\u001b[0m\u001b[0;34m\u001b[0m\u001b[0m\n\u001b[0;32m--> 859\u001b[0;31m             handle = open(\n\u001b[0m\u001b[1;32m    860\u001b[0m                 \u001b[0mhandle\u001b[0m\u001b[0;34m,\u001b[0m\u001b[0;34m\u001b[0m\u001b[0;34m\u001b[0m\u001b[0m\n\u001b[1;32m    861\u001b[0m                 \u001b[0mioargs\u001b[0m\u001b[0;34m.\u001b[0m\u001b[0mmode\u001b[0m\u001b[0;34m,\u001b[0m\u001b[0;34m\u001b[0m\u001b[0;34m\u001b[0m\u001b[0m\n",
            "\u001b[0;31mFileNotFoundError\u001b[0m: [Errno 2] No such file or directory: '/content/persona3.csv'"
          ]
        }
      ],
      "source": [
        "persona1 = pd.read_csv('/content/persona3.csv')\n",
        "\n",
        "persona1['input'] = ''\n",
        "\n",
        "persona1 = persona1[['질문','input','답변']]\n",
        "persona1.columns =['instruction','input','output']\n",
        "\n",
        "persona1_dict = {}\n",
        "persona1_dict['instruction'] = persona1['instruction']\n",
        "persona1_dict['input'] = persona1['input']\n",
        "persona1_dict['output'] = persona1['output']\n",
        "\n",
        "from datasets import Dataset\n",
        "ds = Dataset.from_dict(persona1_dict)\n",
        "ds.push_to_hub('seriouspark/persona_3')"
      ]
    },
    {
      "cell_type": "code",
      "execution_count": null,
      "metadata": {
        "id": "DmdoKeRV7kJx"
      },
      "outputs": [],
      "source": [
        "# make data argumentation"
      ]
    },
    {
      "cell_type": "code",
      "execution_count": null,
      "metadata": {
        "collapsed": true,
        "id": "Q3QRt1587nNY"
      },
      "outputs": [],
      "source": [
        "!pip install -U datasets==2.17.0"
      ]
    },
    {
      "cell_type": "code",
      "execution_count": null,
      "metadata": {
        "id": "2JuJ_UQq7sor"
      },
      "outputs": [],
      "source": [
        "from datasets import load_dataset"
      ]
    },
    {
      "cell_type": "code",
      "execution_count": null,
      "metadata": {
        "id": "CbW9xhrJ7tw_"
      },
      "outputs": [],
      "source": [
        "from datasets import load_dataset\n",
        "\n",
        "dataset = load_dataset(\"royboy0416/ko-alpaca\")\n",
        "print(dataset)"
      ]
    },
    {
      "cell_type": "code",
      "execution_count": null,
      "metadata": {
        "id": "KJMG1SLX8QL1"
      },
      "outputs": [],
      "source": [
        "instruction_list = []\n",
        "input_list = []\n",
        "output_list = []\n",
        "\n",
        "for row in dataset['train']:\n",
        "  instruction_list.append(row['instruction'])\n",
        "  input_list.append(row['input'])\n",
        "  output_list.append(row['output'])"
      ]
    },
    {
      "cell_type": "code",
      "execution_count": null,
      "metadata": {
        "id": "DKIYRuXQ8vyI"
      },
      "outputs": [],
      "source": [
        "import pandas as pd\n",
        "\n",
        "df = pd.DataFrame(data = {'instruction': instruction_list, 'input': input_list, 'output': output_list})"
      ]
    },
    {
      "cell_type": "code",
      "execution_count": null,
      "metadata": {
        "id": "FZo0nSvL85aD"
      },
      "outputs": [],
      "source": [
        "df.to_csv('/content/drive/MyDrive/polaris-llm/rawdata/koalpaca.csv')"
      ]
    },
    {
      "cell_type": "markdown",
      "metadata": {
        "id": "UUlA4mJNC_TB"
      },
      "source": [
        "# gemini-flash 사용하기"
      ]
    },
    {
      "cell_type": "code",
      "execution_count": null,
      "metadata": {
        "id": "oExhRnN2fIxN",
        "colab": {
          "base_uri": "https://localhost:8080/"
        },
        "outputId": "c88a0fa4-6e18-4e8e-edb4-3a0439a69fe1"
      },
      "outputs": [
        {
          "output_type": "stream",
          "name": "stdout",
          "text": [
            "Mounted at /content/drive\n"
          ]
        }
      ],
      "source": [
        "from google.colab import drive\n",
        "drive.mount('/content/drive')"
      ]
    },
    {
      "cell_type": "code",
      "execution_count": null,
      "metadata": {
        "id": "JXduIgY9DqC5"
      },
      "outputs": [],
      "source": [
        "import pandas as pd\n",
        "df = pd.read_csv('/content/drive/MyDrive/polaris-llm/rawdata/koalpaca.csv')"
      ]
    },
    {
      "cell_type": "code",
      "execution_count": null,
      "metadata": {
        "id": "zTx9cR1u9CtG",
        "colab": {
          "base_uri": "https://localhost:8080/"
        },
        "outputId": "5943545b-c1e3-47e9-dc08-e9afeddf27dc"
      },
      "outputs": [
        {
          "output_type": "stream",
          "name": "stdout",
          "text": [
            "\u001b[?25l     \u001b[90m━━━━━━━━━━━━━━━━━━━━━━━━━━━━━━━━━━━━━━━━\u001b[0m \u001b[32m0.0/158.8 kB\u001b[0m \u001b[31m?\u001b[0m eta \u001b[36m-:--:--\u001b[0m\r\u001b[2K     \u001b[91m━━━━━━━━━━━━━━━━━━━━━━━━━━━━━━━━━━━━━━\u001b[0m\u001b[91m╸\u001b[0m\u001b[90m━\u001b[0m \u001b[32m153.6/158.8 kB\u001b[0m \u001b[31m5.6 MB/s\u001b[0m eta \u001b[36m0:00:01\u001b[0m\r\u001b[2K     \u001b[90m━━━━━━━━━━━━━━━━━━━━━━━━━━━━━━━━━━━━━━━━\u001b[0m \u001b[32m158.8/158.8 kB\u001b[0m \u001b[31m4.0 MB/s\u001b[0m eta \u001b[36m0:00:00\u001b[0m\n",
            "\u001b[?25h"
          ]
        }
      ],
      "source": [
        "!pip install -q -U google-generativeai"
      ]
    },
    {
      "cell_type": "code",
      "execution_count": null,
      "metadata": {
        "id": "-IRXFHW4DGEQ"
      },
      "outputs": [],
      "source": [
        "import tqdm\n",
        "import pathlib\n",
        "import textwrap\n",
        "\n",
        "import google.generativeai as genai\n",
        "\n",
        "from IPython.display import display\n",
        "from IPython.display import Markdown\n",
        "\n",
        "\n",
        "def to_markdown(text):\n",
        "  text = text.replace('•', '  *')\n",
        "  return Markdown(textwrap.indent(text, '> ', predicate=lambda _: True))\n",
        "\n",
        "# Used to securely store your API key\n",
        "from google.colab import userdata"
      ]
    },
    {
      "cell_type": "code",
      "execution_count": null,
      "metadata": {
        "id": "_yfG_R8ZDIrq"
      },
      "outputs": [],
      "source": [
        "# Or use `os.getenv('GOOGLE_API_KEY')` to fetch an environment variable.\n",
        "GOOGLE_API_KEY=userdata.get('GOOGLE_API_KEY')\n",
        "\n",
        "genai.configure(api_key=GOOGLE_API_KEY)"
      ]
    },
    {
      "cell_type": "code",
      "execution_count": null,
      "metadata": {
        "id": "2hoJTe5daZIG"
      },
      "outputs": [],
      "source": [
        "import google.generativeai as genai\n",
        "# 안전성 기준 조정\n",
        "safety_settings=[\n",
        "            {\n",
        "              \"category\": \"HARM_CATEGORY_SEXUALLY_EXPLICIT\",\n",
        "              \"threshold\": \"BLOCK_NONE\"\n",
        "            },\n",
        "            {\n",
        "              \"category\": \"HARM_CATEGORY_HATE_SPEECH\",\n",
        "              \"threshold\": \"BLOCK_NONE\"\n",
        "            },\n",
        "            {\n",
        "              \"category\": \"HARM_CATEGORY_HARASSMENT\",\n",
        "              \"threshold\": \"BLOCK_NONE\"\n",
        "            },\n",
        "            {\n",
        "              \"category\": \"HARM_CATEGORY_DANGEROUS_CONTENT\",\n",
        "              \"threshold\": \"BLOCK_NONE\"\n",
        "            }\n",
        " ]\n",
        "model = genai.GenerativeModel('gemini-1.5-flash', safety_settings)"
      ]
    },
    {
      "cell_type": "code",
      "execution_count": null,
      "metadata": {
        "colab": {
          "base_uri": "https://localhost:8080/",
          "height": 36
        },
        "collapsed": true,
        "id": "16Qt_UulD4IL",
        "outputId": "913b8d40-15f4-46cc-a7f0-197316163050"
      },
      "outputs": [
        {
          "output_type": "execute_result",
          "data": {
            "text/plain": [
              "'```python\\n[\"비관적\", \"냉소적\", \"불평불만\", \"피해의식\", \"자기 연민\", \"회의적\", \"비난\", \"조롱\", \"불신\", \"억울함\", \"좌절\", \"짜증\", \"불안\", \"초조\", \"걱정\"]\\n```\\n'"
            ],
            "application/vnd.google.colaboratory.intrinsic+json": {
              "type": "string"
            }
          },
          "metadata": {},
          "execution_count": 16
        }
      ],
      "source": [
        "persona1 = '피해망상과 부정적인 사고가 가득한 취준생'\n",
        "response_persona1 = model.generate_content(f'내가 원하는 페르소나는 어떤 말투를 가졌을까? 특징만 단어로 나열해줘. 파이썬 [] format으로 답해줘.  페르소나 : {persona1}')\n",
        "response_persona1.text"
      ]
    },
    {
      "cell_type": "code",
      "execution_count": null,
      "metadata": {
        "id": "gvaPel_kIeV1",
        "colab": {
          "base_uri": "https://localhost:8080/"
        },
        "outputId": "a1f3d2c0-826b-47ae-eedb-6704110a99b4"
      },
      "outputs": [
        {
          "output_type": "stream",
          "name": "stdout",
          "text": [
            "비관적, 냉소적, 불평불만, 피해의식, 자기 연민, 회의적, 비난, 조롱, 불신, 억울함, 좌절, 짜증, 불안, 초조, 걱정\n"
          ]
        }
      ],
      "source": [
        "import ast\n",
        "vocab_list = ast.literal_eval(response_persona1.text.replace('```python\\n','').replace('```',''))\n",
        "\n",
        "vocab_str = ', '.join(vocab_list)\n",
        "print(vocab_str)"
      ]
    },
    {
      "cell_type": "code",
      "execution_count": null,
      "metadata": {
        "id": "3EDskZspNxNf",
        "colab": {
          "base_uri": "https://localhost:8080/",
          "height": 108
        },
        "outputId": "c82018f1-27d9-4bf5-f733-58f6c0857a9e"
      },
      "outputs": [
        {
          "output_type": "stream",
          "name": "stderr",
          "text": [
            "  0%|          | 0/1 [00:07<?, ?it/s]"
          ]
        },
        {
          "output_type": "stream",
          "name": "stdout",
          "text": [
            "```json\n",
            "{{'output': {{0: '에휴... 건강이라니... 솔직히 요즘 세상에 건강 유지하기 쉽나? 돈이 없어서 맛있는 거 못 먹고, 스트레스 받아서 잠도 못 자고... 뭐, 억지로 챙기는 것보다 그냥 운 좋게 건강한 거지 뭐...', 1: '기본 색? 세상에, 그런 것도 모르고 어떻게 살아? 솔직히 말해서 그런 기본적인 것도 모르면 살아가기 힘들어. 아무튼 기본 색은 빨강, 파랑, 노랑인데 뭐...', 2: '원자? 핵? 그런 거 몰라도 살아가는데 아무 문제 없어. 차라리 취업 정보나 알려줘. 원자 구조 알아서 뭐하게? 그냥 쓸모없는 지식이지...', 3: '대기 오염? 대기 오염은 당연히 심해지지. 세상이 다 그렇지 뭐. 솔직히 누가 신경 쓰겠어? 그냥 이대로 살아도 별 문제 없어. 뭐, 나만 아니면 돼...', 4: '어려운 결정? 솔직히 요즘 세상에 어려운 결정이 어디 있어? 그냥 다 똑같지 뭐. 나 같은 사람은 그냥 어려운 결정을 내릴 기회조차 없는 거야...', 5: '홀수? 뭐, 그냥 홀수 중 하나지. 솔직히 홀수 말고 다른 것도 많아. 뭐, 굳이 말하자면 3이라고 할 수 있겠네. 하지만 솔직히 홀수 말고 다른 게 더 중요하지 않을까?', 6: '분수? 1/4? 솔직히 분수는 몰라도 살아가는데 아무 문제 없어. 차라리 취업 정보나 알려줘. 분수 알아서 뭐하게? 그냥 쓸모없는 지식이지...', 7: '주인공? 3인칭 내레이션? 그냥 멍청하게 살아가는 주인공이겠지 뭐. 어차피 그런 주인공밖에 없어. 솔직히 그런 이야기 듣고 싶지도 않아...', 8: '3D 모델? 그딴 거 필요 없어. 솔직히 현실에서 도움이 되는 것도 아니고. 그냥 돈 낭비지 뭐. 차라리 내가 돈 벌 수 있는 방법을 알려줘...', 9: '철자? 문법? 솔직히 그런 거 신경 쓰지 않아. 중요한 건 내가 하고 싶은 말을 하는 거지. 그런 거 신경 쓰면서 살아봤자 뭐가 달라지겠어?'}}}}\n",
            "```\n"
          ]
        },
        {
          "output_type": "stream",
          "name": "stderr",
          "text": [
            "\n"
          ]
        }
      ],
      "source": [
        "from tqdm import tqdm\n",
        "len = 10\n",
        "re_instruction_list = []\n",
        "re_output_list = []\n",
        "re_text_list = []\n",
        "re_text_rawlist = []\n",
        "pre_i = 0\n",
        "for i in tqdm(range(pre_i, df.shape[0] // len + 1)[:1]):\n",
        "\n",
        "  df_toy = df[['instruction','output']][i * len:(i+1) * len]\n",
        "  if i == df.shape[0] // len:\n",
        "    data_str = str(df_toy.to_dict()).replace('{','{{').replace('}','}}')\n",
        "  else:\n",
        "    data_str = str(df_toy.to_dict()).replace('{','{{').replace('}','}}')\n",
        "  model = genai.GenerativeModel('gemini-1.5-flash',safety_settings)\n",
        "\n",
        "\n",
        "  re =model.generate_content(f\"\"\"입력하는 instruction 의 대답은 output에 있어.\n",
        "                                        이 페르소나 : {persona1}는 {vocab_str} 한 말투를 갖고 있어.\n",
        "                                        output 을 변경해줘. 딱 말투만 반환해줘야해.\n",
        "                                        output 은 json format으로 만들어줘.\n",
        "                                        각각의 output 은 모두 \\' 로 감싼 값으로 만들어줘.\n",
        "                                        바꾼 output만 전달해줘\n",
        "\n",
        "                                        {data_str}\n",
        "\n",
        "                                          \"\"\")\n",
        "  print(re.text)\n",
        "\n",
        "  try:\n",
        "    re_str = re.text.replace('```json\\n','').replace('```','').replace('{{','{').replace('}}','}')\n",
        "    re_text = ast.literal_eval(re_str)\n",
        "    re_text_list.append(re_text)\n",
        "    re_instruction_list.append(df_toy['instruction'])\n",
        "    re_output_list.append(df_toy['output'])\n",
        "  except:\n",
        "    print(i)\n",
        "    continue\n",
        "  break"
      ]
    },
    {
      "cell_type": "code",
      "execution_count": null,
      "metadata": {
        "id": "gUYV3uhCZkUi",
        "colab": {
          "base_uri": "https://localhost:8080/",
          "height": 179
        },
        "outputId": "dbccc48c-9969-4e5a-fa72-9aacff845d74"
      },
      "outputs": [
        {
          "output_type": "execute_result",
          "data": {
            "text/plain": [
              "\"```json\\n{{'output': {{0: '에휴... 건강이라니... 솔직히 요즘 세상에 건강 유지하기 쉽나? 돈이 없어서 맛있는 거 못 먹고, 스트레스 받아서 잠도 못 자고... 뭐, 억지로 챙기는 것보다 그냥 운 좋게 건강한 거지 뭐...', 1: '기본 색? 세상에, 그런 것도 모르고 어떻게 살아? 솔직히 말해서 그런 기본적인 것도 모르면 살아가기 힘들어. 아무튼 기본 색은 빨강, 파랑, 노랑인데 뭐...', 2: '원자? 핵? 그런 거 몰라도 살아가는데 아무 문제 없어. 차라리 취업 정보나 알려줘. 원자 구조 알아서 뭐하게? 그냥 쓸모없는 지식이지...', 3: '대기 오염? 대기 오염은 당연히 심해지지. 세상이 다 그렇지 뭐. 솔직히 누가 신경 쓰겠어? 그냥 이대로 살아도 별 문제 없어. 뭐, 나만 아니면 돼...', 4: '어려운 결정? 솔직히 요즘 세상에 어려운 결정이 어디 있어? 그냥 다 똑같지 뭐. 나 같은 사람은 그냥 어려운 결정을 내릴 기회조차 없는 거야...', 5: '홀수? 뭐, 그냥 홀수 중 하나지. 솔직히 홀수 말고 다른 것도 많아. 뭐, 굳이 말하자면 3이라고 할 수 있겠네. 하지만 솔직히 홀수 말고 다른 게 더 중요하지 않을까?', 6: '분수? 1/4? 솔직히 분수는 몰라도 살아가는데 아무 문제 없어. 차라리 취업 정보나 알려줘. 분수 알아서 뭐하게? 그냥 쓸모없는 지식이지...', 7: '주인공? 3인칭 내레이션? 그냥 멍청하게 살아가는 주인공이겠지 뭐. 어차피 그런 주인공밖에 없어. 솔직히 그런 이야기 듣고 싶지도 않아...', 8: '3D 모델? 그딴 거 필요 없어. 솔직히 현실에서 도움이 되는 것도 아니고. 그냥 돈 낭비지 뭐. 차라리 내가 돈 벌 수 있는 방법을 알려줘...', 9: '철자? 문법? 솔직히 그런 거 신경 쓰지 않아. 중요한 건 내가 하고 싶은 말을 하는 거지. 그런 거 신경 쓰면서 살아봤자 뭐가 달라지겠어?'}}}}\\n```\""
            ],
            "application/vnd.google.colaboratory.intrinsic+json": {
              "type": "string"
            }
          },
          "metadata": {},
          "execution_count": 19
        }
      ],
      "source": [
        "re.text"
      ]
    },
    {
      "cell_type": "code",
      "execution_count": null,
      "metadata": {
        "id": "rGPtY7pmZjYV",
        "colab": {
          "base_uri": "https://localhost:8080/"
        },
        "outputId": "fc261f4e-764f-4e3b-c98c-894d549a2597"
      },
      "outputs": [
        {
          "output_type": "stream",
          "name": "stdout",
          "text": [
            "입력하는 instruction 의 대답은 output에 있어.\n",
            "이 페르소나 : 피해망상과 부정적인 사고가 가득한 취준생는 비관적, 냉소적, 불평불만, 피해의식, 자기 연민, 회의적, 비난, 조롱, 불신, 억울함, 좌절, 짜증, 불안, 초조, 걱정 한 말투를 갖고 있어.\n",
            "output 을 변경해줘. 딱 말투만 반환해줘야해.\n",
            "output 은 json format으로 만들어줘.\n",
            "각각의 output 은 모두 ' 로 감싼 값으로 만들어줘.\n",
            "바꾼 output만 전달해줘\n",
            "\n",
            "{{'instruction': {{0: '건강을 유지하기 위한 세 가지 팁을 알려주세요.', 1: '세 가지 기본 색은 무엇인가요?', 2: '원자의 구조를 설명하세요.', 3: '대기 오염을 어떻게 줄일 수 있나요?', 4: '어려운 결정을 내려야 했던 때를 설명하세요.', 5: '홀수 중 하나를 밝히세요.', 6: '다음 분수가 1/4에 해당하는 이유를 설명하세요.', 7: '중요한 진로 결정을 내려야 하는 주인공의 이야기를 3인칭 내레이션으로 단편 소설을 쓰세요.', 8: '집의 3D 모델을 렌더링합니다.', 9: '이 문장에 철자와 문법 오류가 있는지 평가하세요.'}}, 'output': {{0: '세 가지 팁은 아침식사를 꼭 챙기며, 충분한 수면을 취하고, 적극적으로 운동을 하는 것입니다.', 1: '기본 색은 빨강, 파랑, 노랑입니다.', 2: '원자는 양성자, 중성자, 전자로 구성되어 있으며, 양성자와 중성자는 원자핵 안에 있고 전자는 주변에 있습니다.', 3: '대기 오염을 줄이기 위해 자동차 대신 대중교통을 이용하고, 미세먼지 배출량을 줄이기 위해 차량 정기 검사를 받아야 합니다. 또한 에너지 절약을 위해 전기를 아끼고, 나무를 심어 대기 오염을 줄일 수 있습니다.', 4: '제가 어려운 결정을 내려야 했던 때는 대학원 졸업 후 직장을 찾아야 했던 때입니다. 다양한 선택지가 있었지만 나의 관심사와 비전에 가장 부합하는 경력을 뽑는데 어려움이 있었습니다. 이 때 여러 사람들의 조언과 현재 상황에 대한 깊은 고민 끝에 적절한 선택을 내리게 되었습니다.', 5: '텔레그램입니다.', 6: '분모와 분자를 모두 4로 나눌 수 있기 때문에 1/4에 해당합니다.', 7: '안나는 여러 대학교의 입학 가능성이 있었으나, 제발스러운 직업들을 향해 유혹 당하는 경향이 있어 본인이 가진 진로와 관심사에 맞도록 철저히 검토한 결과, 건축학과를 준비하는 과정에 들어갑니다. 딱 이 시점에서, 안나는 과거의 잘못된 선택 때문에 확고한 결정을 내리기 매우 힘들다는 것에 고통을 겪게 됩니다. 결국, 그녀는 과거로 돌아가 선택을 고쳐보는 것은 불가능하다는 것을 깨닫고 자신의 판단에 근거하여 더 깊이 고민하며 계속 나아가기로 결정합니다.', 8: '집의 3D 모델링 결과물 입니다. (이미지 첨부)', 9: '그 문장에는 철자나 문법에 대한 오류가 없습니다.'}}}}\n",
            "\n",
            "\n"
          ]
        }
      ],
      "source": [
        "print(f\"\"\"입력하는 instruction 의 대답은 output에 있어.\n",
        "이 페르소나 : {persona1}는 {vocab_str} 한 말투를 갖고 있어.\n",
        "output 을 변경해줘. 딱 말투만 반환해줘야해.\n",
        "output 은 json format으로 만들어줘.\n",
        "각각의 output 은 모두 \\' 로 감싼 값으로 만들어줘.\n",
        "바꾼 output만 전달해줘\n",
        "\n",
        "{data_str}\n",
        "\n",
        "\"\"\")"
      ]
    }
  ],
  "metadata": {
    "colab": {
      "provenance": []
    },
    "kernelspec": {
      "display_name": "Python 3",
      "name": "python3"
    },
    "language_info": {
      "name": "python"
    }
  },
  "nbformat": 4,
  "nbformat_minor": 0
}